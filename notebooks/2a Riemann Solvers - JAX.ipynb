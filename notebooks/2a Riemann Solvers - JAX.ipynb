{
 "cells": [
  {
   "cell_type": "markdown",
   "metadata": {},
   "source": [
    "# 2a. Riemann Solvers (Bodenheimer et al, chapter 6.3.3)"
   ]
  },
  {
   "cell_type": "markdown",
   "metadata": {},
   "source": [
    "At the end of exercise  __1d__ last week we learned how to advect material. Advection is a central property of all Eularian numerical schemes. E.g. methods where quantities are described by a fixed grid, but material is being transported, and evolves, in the background grid. In this exercise we will generalise this setup from advection to hydrodynamics."
   ]
  },
  {
   "cell_type": "code",
   "execution_count": 2,
   "metadata": {},
   "outputs": [],
   "source": [
    "import jax\n",
    "import jax.numpy as jnp\n",
    "import jax.lax as lax\n",
    "from jax import Array, jit\n",
    "from jax.typing import ArrayLike\n",
    "\n",
    "import numpy as onp\n",
    "import matplotlib.pyplot as plt\n",
    "\n",
    "%load_ext autoreload\n",
    "%autoreload 1\n",
    "%aimport riemann"
   ]
  },
  {
   "cell_type": "markdown",
   "metadata": {},
   "source": [
    "### Hydrodynamics\n",
    "The equations of hydrodynamics are\n",
    "\\begin{align}\n",
    "\\partial_t \\rho + \\mathbf{\\nabla} \\cdot [\\rho\\,\\mathbf{v}] & = 0 \\\\\n",
    "\\partial_t \\rho\\,\\mathbf{v} + \\mathbf{\\nabla} \\cdot [\\rho\\, \\mathbf{v}\\otimes\\mathbf{v} + P \\,\\mathsf{I}] & = 0 \\\\\n",
    "\\partial_t E + \\mathbf{\\nabla} \\cdot [(E + P)\\, \\mathbf{v}] & = 0\\,,\n",
    "\\end{align}\n",
    "where $\\rho$ is density, $\\mathbf{v}$ is velocity, $P$ is pressure, and $E$ is the total energy density. $E = \\rho e + {1 \\over 2} \\rho v^2$, and $e$ is the internal energy per mass. This is complemented by an equation of state $P = (\\gamma - 1)\\rho e$. $\\mathsf{I}$ is the identity matrix, so that $\\mathbf{\\nabla} \\cdot [P\\,\\mathsf{I}] = \\mathbf{\\nabla}P$.\n",
    "\n",
    "This can also be written in the Lagranian form\n",
    "\\begin{align}\n",
    "\\partial_t \\rho & = - \\mathbf{v} \\cdot \\mathbf{\\nabla} \\rho\n",
    "- \\rho \\mathbf{\\nabla} \\cdot \\mathbf{v} \\\\\n",
    "\\partial_t \\mathbf{v} & = - (\\mathbf{v} \\cdot \\mathbf{\\nabla}) \\mathbf{v}\n",
    "- \\frac{1}{\\rho} \\mathbf{\\nabla} P  \\\\\n",
    "\\partial_t P &= - \\mathbf{v} \\cdot \\mathbf{\\nabla} P\n",
    "- \\gamma P \\mathbf{\\nabla} \\cdot \\mathbf{v}\\,,\n",
    "\\end{align}\n",
    "where the advective derivative ($-\\mathbf{v} \\cdot \\mathbf{\\nabla}$) is explicit.\n",
    "\n",
    "In the special case where the temperature is constant the equations simplify to\n",
    "\\begin{align}\n",
    "\\partial_t \\rho + \\mathbf{\\nabla} \\cdot [\\rho\\,\\mathbf{v}] & = 0 \\\\\n",
    "\\partial_t \\rho\\,\\mathbf{v} + \\mathbf{\\nabla} \\cdot [\\rho\\, \\mathbf{v}\\otimes\\mathbf{v} + P \\,\\mathsf{I}] & = 0\n",
    "\\end{align}\n",
    "and $P = c_s^2 \\rho$, where $c_s^2 = k_b T / \\mu m_p$ is the isothermal sound speed. To keep it simlpe, we will start by considering isothermal hydrodynamics. You will the yourselves add the energy equation."
   ]
  },
  {
   "cell_type": "markdown",
   "metadata": {},
   "source": [
    "### MUSCL Method for time updates\n",
    "To simplfy the equations we will write the system in vector notation with a _state vector_ $U$, and a _flux vector_ $F$, and assume we have one dimension. Then\n",
    "\\begin{align}\n",
    "U &= (\\rho, \\rho u) \\\\\n",
    "F &= (\\rho u, \\rho u u + P) \\\\\n",
    "\\partial_t U + \\partial_x F &= 0\n",
    "\\end{align}\n",
    "\n",
    "From last week's lecture slide we have the __master equation__ for solving the system:\n",
    "\\begin{equation}\n",
    "U(t + \\Delta t,x_{i-1/2}) - U(t,x_{i-1/2}) = \\frac{\\Delta t}{\\Delta x} \\left[ \\tilde F(t + {\\Delta t \\over 2},x_{i-1}) - \\tilde F(t + {\\Delta t \\over 2},x_{i}) \\right]\\,,\n",
    "\\end{equation}\n",
    "where the flux terms are integrals over the time step and the cell faces (that in 1D is just a point, but in 2D a line, and in 3D an area)\n",
    "\\begin{equation}\n",
    "\\tilde F(t + {\\Delta t \\over 2},x_{i}) = {1 \\over \\Delta t}\n",
    "\\int^{t + \\Delta t}_t \\textrm{d} t' F(t', U_I(t',x_i))\\,,\n",
    "\\end{equation}\n",
    "and $U_I$ are the point values of $U$ at the interface.\n",
    "\n",
    "The MUSCL method improves on Godunov method by approximating the time integral and assuming that we can make a slope interpolation for the values at the interface.\n",
    "The alogrithm goes as follows\n",
    "  1. From the state vector $U$ compute the _primitive_ variables q = ($\\rho$,$v$,$P$)\n",
    "  2. Compute the spatial slopes from the center of the cell to the interface. Making the slopes monotonized (TVD) if needed. The slope accross a cell are $\\Delta q_x$.\n",
    "  3. Compute a naive time evolution for the primitve variables at the center of the cell using an Euler step and the Lagranian hydro equations. E.g.\n",
    "\\begin{equation}\n",
    "\\Delta q_t = \\Delta t \\frac{\\textrm{d}q}{\\textrm{d}t}\n",
    "\\end{equation}\n",
    "  4. Approximate $q(t+\\Delta t/2, x\\pm\\Delta x/2) = q(t,x) + (\\Delta q_t \\pm \\Delta q_x) / 2$\n",
    "  5. Shift point of view from cells to interfaces and consider fluid variables on the _left_ and _right_ sides of _interfaces_.\n",
    "  6. Assume that the fluid variables are constant on each side of the cell interface, and use an (approximate) Riemann solver to compute the fluxes.\n",
    "\n",
    "Here is the code corresponding to the algorithm. Notice how we use a _class_ to contain the experiment data and related functions, and help in readability. This makes it easy to extend the code with different variables and functions, if needed."
   ]
  },
  {
   "cell_type": "markdown",
   "metadata": {},
   "source": [
    "### Coordinates\n",
    "defining a coordinate vector may seem trivial, but it is important always to have a clear picture of _where_ different cell center and interface values are placed in memory, just like when you solve exercise __1d__ with the Van Leer method. We have decided to use a so-called up-staggered coordinate system, because the interface to the right (or _up_) is placed in memory at the same position as the cell center values. We could as well have used a down-staggered coordinate system. It is a choice of convention."
   ]
  },
  {
   "cell_type": "markdown",
   "metadata": {},
   "source": [
    "### Derivatives and slope limiters"
   ]
  },
  {
   "cell_type": "markdown",
   "metadata": {},
   "source": [
    "### Hydro data and auxiliary conversion methods from conservative to primitive variables\n",
    "We will use a class to encapsulate all the functions we need to manipulate basic variables. Remember from exercise __1a__ how a class can contain both variables and functions, and that the first argument to a function always is the class itself. There is also a special class function \"\\_\\_init\\_\\_\" that populates the initial data for the class"
   ]
  },
  {
   "cell_type": "markdown",
   "metadata": {},
   "source": [
    "### Riemann Solvers\n",
    "First set up a two trivial functions for converting between the primitive variables $q = (\\rho, v, P)$ and conservative variables $U=(\\rho,\\rho v, E)$, where $E$ is the total energy, and for computing the corresponding hydrodynamical flux vector. Then use those to make two example approximate Rieman solvers _LLF_ and _HLL_ that compute the flux at an interface given a left and right state."
   ]
  },
  {
   "cell_type": "markdown",
   "metadata": {},
   "source": [
    "### MUSCL time update algorithm"
   ]
  },
  {
   "cell_type": "markdown",
   "metadata": {},
   "source": [
    "### Initial condition\n",
    "Setup an initial condition for a sound wave traveling to the right"
   ]
  },
  {
   "cell_type": "code",
   "execution_count": 3,
   "metadata": {},
   "outputs": [],
   "source": [
    "# returns a simple Sine wave traveling at velocity v evaluated at time t\n",
    "def wave(x,v,t):\n",
    "    f=jnp.sin(x-v*t)\n",
    "    return f\n",
    "\n",
    "def initial_condition(u,eps=0.01,rho0=1.):\n",
    "        velocity = eps*u.cs*wave(u.x,0.,0.)     # velocity\n",
    "        u.rho = rho0*(1. + eps*wave(u.x,0.,0.)) # density for a sound wave with relative amplitude \"eps\"\n",
    "        u.Px = rho0*velocity                    # momentum density\n",
    "        # check if not an isothermal setup, and then compute the total energy\n",
    "        if u.gamma != 1.:\n",
    "            P = u.cs**2 * u.rho / u.gamma\n",
    "            Eint = P / (u.gamma - 1.)\n",
    "            u.Etot = Eint + 0.5 * u.px**2 / u.rho\n"
   ]
  },
  {
   "cell_type": "markdown",
   "metadata": {},
   "source": [
    "### Time Evolution Loop"
   ]
  },
  {
   "cell_type": "code",
   "execution_count": 5,
   "metadata": {},
   "outputs": [],
   "source": [
    "# setup graphics\n",
    "def wide_fig(C, title='',s=''):\n",
    "    if title=='':\n",
    "        title='{}  Courant={:.2f}'.format(s,C)\n",
    "    plt.figure(figsize=(14,4))\n",
    "    plt.title(title);"
   ]
  },
  {
   "cell_type": "code",
   "execution_count": 7,
   "metadata": {},
   "outputs": [
    {
     "name": "stdout",
     "output_type": "stream",
     "text": [
      "Number of iterations : 1320\n",
      "Time                 : nan\n",
      "Resolution           : 1024\n",
      "Periods advected     : 1.0\n",
      "CPU times: user 7.24 s, sys: 3.43 s, total: 10.7 s\n",
      "Wall time: 6 s\n"
     ]
    },
    {
     "data": {
      "image/png": "[encoded data removed]",
      "text/plain": [
       "<Figure size 1400x400 with 1 Axes>"
      ]
     },
     "metadata": {},
     "output_type": "display_data"
    }
   ],
   "source": [
    "def run():\n",
    "    n = 1024       # number of grid points\n",
    "    C = 0.2        # Courant number (<0.5 for stability)\n",
    "    rho0 = 1.      # Average density\n",
    "    gamma = 1.     # Adiabatic index\n",
    "    cs  = 1.       # Sound speed\n",
    "    eps = 0.01     # relative amplitude of soundwave\n",
    "    Slope = riemann.MonCen   # choose a slope\n",
    "    Riemann_Solver=riemann.LLF # choose a Riemann solver\n",
    "    \n",
    "    # set up exepriment with a soundwave initial condition\n",
    "    u = riemann.HydroState(n,gamma=1.,cs=cs)\n",
    "    initial_condition(u,eps=eps,rho0=rho0)\n",
    "    \n",
    "    periods = 1.0  # number of periods to advect\n",
    "    tend = periods*u.Lbox / u.cs # corresponding end time if wave moves with sound speed (cs)\n",
    "    \n",
    "    # caluclate an approximate guess for the\n",
    "    # number of iterations needed\n",
    "    # dt ~ C * dx / cs, since cs is the soundspeed\n",
    "    # 1.5 is a safety factor, given that the phase\n",
    "    # velocity of the wave may limit the time step a bit\n",
    "    nt = int(1.5 * tend / (C * u.dx / cs))\n",
    "    \n",
    "    wide_fig(C)\n",
    "    plt.plot(u.x,u.rho - rho0,'-',label=r'initial $\\rho-\\rho_0$')\n",
    "    \n",
    "    it = 0\n",
    "    while(u.t < tend and it < nt):\n",
    "        dt=u.Courant(C) # get size of dt\n",
    "        if (u.t+dt > tend): # make sure we arrive at tend exactly\n",
    "            dt = tend - u.t\n",
    "    \n",
    "        u = riemann.muscl(u,dt,Slope=Slope,Riemann_Solver=Riemann_Solver) # Evolve solution by dt\n",
    "        # increment time and iteration count\n",
    "        u.t += dt \n",
    "        it += 1\n",
    "    \n",
    "    # Plot the final density in orange\n",
    "    plt.plot(u.x,u.rho-rho0,'-',label=r'$\\rho(t_{end}) - \\rho_0$')\n",
    "    \n",
    "    # Plot the corresponding velocity. Rescale with a factor of rho0 / u[\"cs\"] to make\n",
    "    # it same amplitude as density (can be seen by e.g. dimensional analysis)\n",
    "    plt.plot(u.x,rho0*u.velocity()/u.cs,'-',label=r'$\\rho_0 v(t_{end}) / c_s$')\n",
    "    \n",
    "    plt.legend();\n",
    "    \n",
    "    print(\"Number of iterations :\", it)\n",
    "    print(\"Time                 :\", u.t)\n",
    "    print(\"Resolution           :\", u.n)\n",
    "    print(\"Periods advected     :\", periods)\n",
    "    if (u.t < tend):\n",
    "        print(\"OBS hit maximum number of iterations, something may be broken.\")\n",
    "        print(\"nt   =\", nt)\n",
    "        print(\"t    =\", u.t)\n",
    "        print(\"tend =\", tend)\n",
    "\n",
    "%time run()"
   ]
  },
  {
   "cell_type": "markdown",
   "metadata": {},
   "source": [
    "In the plot above we have three quantities:\n",
    "  * Blue: the initial density perturbation (the average density $\\rho_0$ has been subtracted)\n",
    "  * Orange: the final density perturbation\n",
    "  * The velocity perturbation rescaled to units of density by dividing with sound speed and multiplying the average density (why is this a good rescaling :-? )"
   ]
  },
  {
   "cell_type": "markdown",
   "metadata": {},
   "source": [
    "### Tasks:"
   ]
  },
  {
   "cell_type": "markdown",
   "metadata": {},
   "source": [
    "In this exercise the learning objective is to understand the different steps in the MUSCL algorithm. We will use a simple sound wave as our setup, but the solver is general. Any other initial condition would work, such as a shock, as long as it is periodic. You are welcome to construct your own initial condition, and see what happens!\n",
    "\n",
    "To aid in understanding how it works you will\n",
    "  - extend the solver to include the total energy\n",
    "  - _experimentally_ test how well the sound speed is conserved (how will you do that?)\n",
    "  - relate to the physical problem of a hydrodynamical wave, by changing the parameters\n",
    "\n",
    "The tasks are:\n",
    "  1. Execute the notebook. Make a routine to measure the sound speed.\n",
    "  2. Extend the algorithm to include the energy equation. What is the sound speed now; discuss why?\n",
    "  3. Change the amplitude to something larger. What happens; discuss why?"
   ]
  },
  {
   "cell_type": "markdown",
   "metadata": {},
   "source": [
    "### __Absalon turn-in__"
   ]
  },
  {
   "cell_type": "markdown",
   "metadata": {},
   "source": [
    "Upload this notebook with answers to the tasks at the end together with a pdf of the notebook. You should make a copy of the solvers and other relevant cells below with the energy equation included. Just like as has already been done in many parts of the code, if you add if blocks like `if gamma != 1: ...` then the solver will still work in the isothermal case. "
   ]
  }
 ],
 "metadata": {
  "kernelspec": {
   "display_name": "Python 3 (ipykernel)",
   "language": "python",
   "name": "python3"
  },
  "language_info": {
   "codemirror_mode": {
    "name": "ipython",
    "version": 3
   },
   "file_extension": ".py",
   "mimetype": "text/x-python",
   "name": "python",
   "nbconvert_exporter": "python",
   "pygments_lexer": "ipython3",
   "version": "3.11.8"
  }
 },
 "nbformat": 4,
 "nbformat_minor": 4
}
